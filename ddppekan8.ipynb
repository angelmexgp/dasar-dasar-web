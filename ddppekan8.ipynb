{
  "nbformat": 4,
  "nbformat_minor": 0,
  "metadata": {
    "colab": {
      "provenance": [],
      "authorship_tag": "ABX9TyNKJ74xuW0Sv/q5Gd0vVpl7",
      "include_colab_link": true
    },
    "kernelspec": {
      "name": "python3",
      "display_name": "Python 3"
    },
    "language_info": {
      "name": "python"
    }
  },
  "cells": [
    {
      "cell_type": "markdown",
      "metadata": {
        "id": "view-in-github",
        "colab_type": "text"
      },
      "source": [
        "<a href=\"https://colab.research.google.com/github/angelmexgp/dasar-dasar-web/blob/main/ddppekan8.ipynb\" target=\"_parent\"><img src=\"https://colab.research.google.com/assets/colab-badge.svg\" alt=\"Open In Colab\"/></a>"
      ]
    },
    {
      "cell_type": "code",
      "execution_count": 37,
      "metadata": {
        "id": "R3hEDt2GOP2P"
      },
      "outputs": [],
      "source": [
        "#konversi suhu celcius ke fahrenheit dengan function\n",
        "\n",
        "def celcius_ke_fahrenheit(suhucelcius):\n",
        " print((suhucelcius * 9/5) + 32)\n",
        "\n",
        " celcius_ke_fahrenheit(0)\n",
        " celcius_ke_fahrenheit(100)"
      ]
    },
    {
      "cell_type": "code",
      "source": [
        "#no2\n",
        "\n",
        "def ganjilGenap(bilangan):\n",
        "    penentu = bilangan  % 2 == 0\n",
        "    return penentu\n",
        "print (ganjilGenap(4))\n",
        "print (ganjilGenap(3))\n",
        "\n",
        ""
      ],
      "metadata": {
        "id": "JbIQeOr3QKwh"
      },
      "execution_count": null,
      "outputs": []
    },
    {
      "cell_type": "code",
      "source": [
        "def nilai(keterangan):\n",
        "  if keterangan >= 80:\n",
        "    print(\"Lulus\")\n",
        "  elif keterangan <= 60:\n",
        "    print(\"Gagal\")\n",
        "\n",
        "nilai(80)\n",
        "nilai(60)"
      ],
      "metadata": {
        "colab": {
          "base_uri": "https://localhost:8080/"
        },
        "id": "EsJVCAFDR3zs",
        "outputId": "a756f398-9435-4f55-b841-43b1ca9480f2"
      },
      "execution_count": 34,
      "outputs": [
        {
          "output_type": "stream",
          "name": "stdout",
          "text": [
            "Lulus\n",
            "Gagal\n"
          ]
        }
      ]
    },
    {
      "cell_type": "code",
      "source": [
        "def bilanganGanjil(bilangan):\n",
        "    return[i for i in range(1,bilangan,2)]\n",
        "print (bilanganGanjil (20))"
      ],
      "metadata": {
        "colab": {
          "base_uri": "https://localhost:8080/"
        },
        "id": "fpbqL1eLS4uj",
        "outputId": "ecd646de-9f6d-45a4-c341-02f15e4a7ae6"
      },
      "execution_count": 36,
      "outputs": [
        {
          "output_type": "stream",
          "name": "stdout",
          "text": [
            "[1, 3, 5, 7, 9, 11, 13, 15, 17, 19]\n"
          ]
        }
      ]
    }
  ]
}