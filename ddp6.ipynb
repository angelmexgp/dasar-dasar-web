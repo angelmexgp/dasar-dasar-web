{
  "nbformat": 4,
  "nbformat_minor": 0,
  "metadata": {
    "colab": {
      "provenance": []
    },
    "kernelspec": {
      "name": "python3",
      "display_name": "Python 3"
    },
    "language_info": {
      "name": "python"
    }
  },
  "cells": [
    {
      "cell_type": "code",
      "execution_count": 4,
      "metadata": {
        "colab": {
          "base_uri": "https://localhost:8080/"
        },
        "collapsed": true,
        "id": "JTTvLpisu_yd",
        "outputId": "f3123963-c5ff-453a-a4d9-f54ce6564e22"
      },
      "outputs": [
        {
          "output_type": "stream",
          "name": "stdout",
          "text": [
            "951\n",
            "651\n",
            "69\n",
            "319\n",
            "601\n",
            "485\n",
            "507\n",
            "725\n",
            "547\n",
            "615\n",
            "83\n",
            "165\n",
            "141\n",
            "501\n",
            "263\n",
            "617\n",
            "865\n",
            "575\n",
            "219\n",
            "105\n",
            "941\n",
            "47\n",
            "907\n",
            "375\n",
            "823\n",
            "597\n",
            "615\n",
            "953\n",
            "345\n",
            "399\n",
            "219\n",
            "237\n",
            "949\n",
            "687\n",
            "217\n",
            "815\n",
            "67\n",
            "767\n",
            "553\n",
            "\n"
          ]
        }
      ],
      "source": [
        "#Print semua bilangan ganjil, hentikan perulangan setelah bilangan 553\n",
        "\n",
        "index = 0\n",
        "numbers = [\n",
        " 951, 402, 984, 651, 360, 69, 408, 319, 601, 485, 980, 507, 725, 547, 544,  615,\n",
        " 83, 165, 141, 501, 263, 617, 865, 575, 219, 390, 984, 592, 236, 105, 942, 941,\n",
        " 386, 462, 47, 418, 907, 344, 236, 375, 823, 566, 597, 978, 328, 615, 953, 345,\n",
        " 399, 162, 758, 219, 918, 237, 412, 566, 826, 248, 866, 950, 626, 949, 687, 217,\n",
        " 815, 67, 104, 58, 512, 24, 892, 894, 767, 553, 81, 379, 843, 831, 445, 742, 717,\n",
        " 958, 609, 842, 451, 688, 753, 854, 685, 93, 857, 440, 380, 126, 721, 328, 753,\n",
        " 470, 743, 527\n",
        "]\n",
        "\n",
        "while index  < len(numbers):\n",
        "   if numbers[index]% 2 != 0:\n",
        "     print(numbers[index])\n",
        "     if numbers[index] == 553:\n",
        "        break\n",
        "   index += 1\n",
        "print(\"\")"
      ]
    },
    {
      "cell_type": "code",
      "source": [
        "#Buat lah output menggunakan bahasa pemprograman python:\n",
        "\n",
        "jumlah = 0\n",
        "output = \"\"\n",
        "\n",
        "for i in range (1,20,2) :\n",
        "  jumlah += i\n",
        "  output += str(i)\n",
        "  if i < 19:\n",
        "    output += \" + \"\n",
        "\n",
        "print(output + \" = \" + str(jumlah))\n"
      ],
      "metadata": {
        "colab": {
          "base_uri": "https://localhost:8080/"
        },
        "id": "dDbwWJaAwVUy",
        "outputId": "b3dab609-78fe-4cfe-8598-297e8c2ce837"
      },
      "execution_count": 6,
      "outputs": [
        {
          "output_type": "stream",
          "name": "stdout",
          "text": [
            "1 + 3 + 5 + 7 + 9 + 11 + 13 + 15 + 17 + 19 = 100\n"
          ]
        }
      ]
    },
    {
      "cell_type": "code",
      "source": [
        "#Buat program untuk minta input jumlah baris\n",
        "\n",
        "jumlah_baris = int(input(\"masukkan jumlah baris\"))\n",
        "\n",
        "for i in range (1, jumlah_baris + 1) :\n",
        "  print(\"*\" * i)"
      ],
      "metadata": {
        "colab": {
          "base_uri": "https://localhost:8080/"
        },
        "id": "2T7BxiiFx1GG",
        "outputId": "23cac2e4-b837-4997-c9bd-471e3ecdb7bc"
      },
      "execution_count": 7,
      "outputs": [
        {
          "output_type": "stream",
          "name": "stdout",
          "text": [
            "masukkan jumlah baris10\n",
            "*\n",
            "**\n",
            "***\n",
            "****\n",
            "*****\n",
            "******\n",
            "*******\n",
            "********\n",
            "*********\n",
            "**********\n"
          ]
        }
      ]
    }
  ]
}